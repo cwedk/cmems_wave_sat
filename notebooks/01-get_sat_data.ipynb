{
 "cells": [
  {
   "cell_type": "markdown",
   "metadata": {},
   "source": [
    "###  Download CMEMS L3 wave height altimetry. NRT (near real-time) or MY (multi-year)\n",
    " based on: https://jupyterhub-cmems.mercator-ocean.fr/user/edekorte/lab/tree/shared_notebooks/training-AMERICA/08%20Jupyter%20Notebook%20-%20Sea%20Level%20Observation%20Products/08-SEALEVEL-02_sealevel-L3_uses.ipynb\n",
    "and \n",
    "https://help.marine.copernicus.eu/en/articles/6444313-how-to-fetch-marine-data-from-copernicus-marine-ftp-server-in-python"
   ]
  },
  {
   "cell_type": "code",
   "execution_count": 5,
   "metadata": {},
   "outputs": [],
   "source": [
    "# Basic import package for connecting to Copernicus Marine FTP server\n",
    "from ftplib import FTP\n",
    "import ftplib\n",
    "import re\n",
    "import getpass\n",
    "from datetime import datetime\n",
    "import sys,fnmatch,os"
   ]
  },
  {
   "cell_type": "markdown",
   "metadata": {},
   "source": [
    "#### User and Data Configuration\n",
    "Make sure you have a CMEMS account or register here: https://data.marine.copernicus.eu/register. \n",
    "Product and Dataset ids can be found here: https://data.marine.copernicus.eu/product/WAVE_GLO_PHY_SWH_L3_NRT_014_001/services"
   ]
  },
  {
   "cell_type": "code",
   "execution_count": 6,
   "metadata": {},
   "outputs": [],
   "source": [
    "# Server Configuration\n",
    "host = 'nrt.cmems-du.eu' # or my.cmems-du.eu or nrt.cmems-du.eu nrt.cmems-du.eu/Core\n",
    "\n",
    "# Credentials\n",
    "username = input('[ACTION] Enter your username: ')\n",
    "password = getpass.getpass('[ACTION Enter your password: ')\n",
    "\n",
    "# Data Request Configuration\n",
    "PRODUCT_ID = 'WAVE_GLO_PHY_SWH_L3_NRT_014_001'\n",
    "DATASET_ID = 'cmems_obs-wave_glo_phy-swh_nrt_s3a-l3_PT1S'   # nrt: Near real-time or my: multi-yera. jason3: 'cmems_obs-wave_glo_phy-swh_nrt_j3-l3_PT1S' \n",
    "\n",
    "year = '2022'\n",
    "month = '01'\n",
    "\n",
    "# Output dir\n",
    "env_root = os.getcwd() # environment root directory\n",
    "output_root = '../data'   # output root directory\n",
    "if output_root not in sys.path:\n",
    "    sys.path.append(output_root)\n",
    "os.chdir(output_root)  # change to output root directory\n"
   ]
  },
  {
   "cell_type": "markdown",
   "metadata": {},
   "source": [
    "### Connect to FTP server"
   ]
  },
  {
   "cell_type": "code",
   "execution_count": 7,
   "metadata": {},
   "outputs": [
    {
     "ename": "TimeoutError",
     "evalue": "[Errno 110] Connection timed out",
     "output_type": "error",
     "traceback": [
      "\u001b[0;31m---------------------------------------------------------------------------\u001b[0m",
      "\u001b[0;31mTimeoutError\u001b[0m                              Traceback (most recent call last)",
      "\u001b[1;32m/p/i1000617-phd-waveda/deltares/01-eo-waves/cmems_wave_sat/notebooks/01-get_sat_data.ipynb Cell 6\u001b[0m line \u001b[0;36m2\n\u001b[1;32m      <a href='vscode-notebook-cell://ssh-remote%2Bh6c7rdp.directory.intra/p/i1000617-phd-waveda/deltares/01-eo-waves/cmems_wave_sat/notebooks/01-get_sat_data.ipynb#W5sdnNjb2RlLXJlbW90ZQ%3D%3D?line=0'>1</a>\u001b[0m ftp \u001b[39m=\u001b[39m FTP()\n\u001b[0;32m----> <a href='vscode-notebook-cell://ssh-remote%2Bh6c7rdp.directory.intra/p/i1000617-phd-waveda/deltares/01-eo-waves/cmems_wave_sat/notebooks/01-get_sat_data.ipynb#W5sdnNjb2RlLXJlbW90ZQ%3D%3D?line=1'>2</a>\u001b[0m ftp\u001b[39m.\u001b[39mconnect(host)\n",
      "File \u001b[0;32m~/.conda/envs/cmems_sat_lab/lib/python3.11/ftplib.py:158\u001b[0m, in \u001b[0;36mFTP.connect\u001b[0;34m(self, host, port, timeout, source_address)\u001b[0m\n\u001b[1;32m    156\u001b[0m     \u001b[39mself\u001b[39m\u001b[39m.\u001b[39msource_address \u001b[39m=\u001b[39m source_address\n\u001b[1;32m    157\u001b[0m sys\u001b[39m.\u001b[39maudit(\u001b[39m\"\u001b[39m\u001b[39mftplib.connect\u001b[39m\u001b[39m\"\u001b[39m, \u001b[39mself\u001b[39m, \u001b[39mself\u001b[39m\u001b[39m.\u001b[39mhost, \u001b[39mself\u001b[39m\u001b[39m.\u001b[39mport)\n\u001b[0;32m--> 158\u001b[0m \u001b[39mself\u001b[39m\u001b[39m.\u001b[39msock \u001b[39m=\u001b[39m socket\u001b[39m.\u001b[39mcreate_connection((\u001b[39mself\u001b[39m\u001b[39m.\u001b[39mhost, \u001b[39mself\u001b[39m\u001b[39m.\u001b[39mport), \u001b[39mself\u001b[39m\u001b[39m.\u001b[39mtimeout,\n\u001b[1;32m    159\u001b[0m                                      source_address\u001b[39m=\u001b[39m\u001b[39mself\u001b[39m\u001b[39m.\u001b[39msource_address)\n\u001b[1;32m    160\u001b[0m \u001b[39mself\u001b[39m\u001b[39m.\u001b[39maf \u001b[39m=\u001b[39m \u001b[39mself\u001b[39m\u001b[39m.\u001b[39msock\u001b[39m.\u001b[39mfamily\n\u001b[1;32m    161\u001b[0m \u001b[39mself\u001b[39m\u001b[39m.\u001b[39mfile \u001b[39m=\u001b[39m \u001b[39mself\u001b[39m\u001b[39m.\u001b[39msock\u001b[39m.\u001b[39mmakefile(\u001b[39m'\u001b[39m\u001b[39mr\u001b[39m\u001b[39m'\u001b[39m, encoding\u001b[39m=\u001b[39m\u001b[39mself\u001b[39m\u001b[39m.\u001b[39mencoding)\n",
      "File \u001b[0;32m~/.conda/envs/cmems_sat_lab/lib/python3.11/socket.py:851\u001b[0m, in \u001b[0;36mcreate_connection\u001b[0;34m(address, timeout, source_address, all_errors)\u001b[0m\n\u001b[1;32m    849\u001b[0m \u001b[39mtry\u001b[39;00m:\n\u001b[1;32m    850\u001b[0m     \u001b[39mif\u001b[39;00m \u001b[39mnot\u001b[39;00m all_errors:\n\u001b[0;32m--> 851\u001b[0m         \u001b[39mraise\u001b[39;00m exceptions[\u001b[39m0\u001b[39m]\n\u001b[1;32m    852\u001b[0m     \u001b[39mraise\u001b[39;00m ExceptionGroup(\u001b[39m\"\u001b[39m\u001b[39mcreate_connection failed\u001b[39m\u001b[39m\"\u001b[39m, exceptions)\n\u001b[1;32m    853\u001b[0m \u001b[39mfinally\u001b[39;00m:\n\u001b[1;32m    854\u001b[0m     \u001b[39m# Break explicitly a reference cycle\u001b[39;00m\n",
      "File \u001b[0;32m~/.conda/envs/cmems_sat_lab/lib/python3.11/socket.py:836\u001b[0m, in \u001b[0;36mcreate_connection\u001b[0;34m(address, timeout, source_address, all_errors)\u001b[0m\n\u001b[1;32m    834\u001b[0m \u001b[39mif\u001b[39;00m source_address:\n\u001b[1;32m    835\u001b[0m     sock\u001b[39m.\u001b[39mbind(source_address)\n\u001b[0;32m--> 836\u001b[0m sock\u001b[39m.\u001b[39mconnect(sa)\n\u001b[1;32m    837\u001b[0m \u001b[39m# Break explicitly a reference cycle\u001b[39;00m\n\u001b[1;32m    838\u001b[0m exceptions\u001b[39m.\u001b[39mclear()\n",
      "\u001b[0;31mTimeoutError\u001b[0m: [Errno 110] Connection timed out"
     ]
    }
   ],
   "source": [
    "ftp = FTP()\n",
    "ftp.connect(host)"
   ]
  },
  {
   "cell_type": "markdown",
   "metadata": {},
   "source": [
    "### Change directory on FTP server to desired data and retrieve available files"
   ]
  },
  {
   "cell_type": "code",
   "execution_count": null,
   "metadata": {},
   "outputs": [],
   "source": [
    "# Connect to ftp server\n",
    "ftp = FTP(host,username,password)\n",
    "\n",
    "# Change direcotry to the product we want (find the path in the catalogue)\n",
    "ftp.cwd('Core/' + PRODUCT_ID + '/' + DATASET_ID + '/' + year + '/' + month)"
   ]
  },
  {
   "cell_type": "code",
   "execution_count": null,
   "metadata": {},
   "outputs": [],
   "source": [
    "# Retrieve lines\n",
    "#ftp.retrlines('LIST *global_vavh_l3_rt_j3_2022012*.nc') #jason3\n",
    "ftp.retrlines('LIST *global_vavh_l3_rt_s3a_2022012*.nc')  #sentinel3a"
   ]
  },
  {
   "cell_type": "markdown",
   "metadata": {},
   "source": [
    "### Download Altimetry data from FTP server"
   ]
  },
  {
   "cell_type": "code",
   "execution_count": null,
   "metadata": {},
   "outputs": [],
   "source": [
    "\n",
    "dir_files=ftp.nlst('') # list files in remote ftp\n",
    "for f in dir_files:\n",
    "    if fnmatch.fnmatch(f,\"*global_vavh_l3_rt_s3a_2022012*.nc\"):   # cannot use glob.glob , match files in ftp remote\n",
    "        sys.stderr.write(\"downloading \"+f+\" ...\\n\")\n",
    "        ftp.retrbinary(\"RETR \" + f ,open(f, 'wb').write)        # download files from ftp remote\n",
    "\n",
    "os.chdir(env_root) # change back to environment root directory\n",
    "ftp.quit\n",
    "        "
   ]
  },
  {
   "cell_type": "code",
   "execution_count": null,
   "metadata": {},
   "outputs": [],
   "source": []
  }
 ],
 "metadata": {
  "kernelspec": {
   "display_name": "openda-lab",
   "language": "python",
   "name": "python3"
  },
  "language_info": {
   "codemirror_mode": {
    "name": "ipython",
    "version": 3
   },
   "file_extension": ".py",
   "mimetype": "text/x-python",
   "name": "python",
   "nbconvert_exporter": "python",
   "pygments_lexer": "ipython3",
   "version": "3.11.5"
  }
 },
 "nbformat": 4,
 "nbformat_minor": 2
}

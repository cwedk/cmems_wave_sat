{
 "cells": [
  {
   "cell_type": "markdown",
   "metadata": {},
   "source": [
    "###  Download CMEMS L3 wave height altimetry. NRT (near real-time) or MY (multi-year)\n",
    " based on: https://jupyterhub-cmems.mercator-ocean.fr/user/edekorte/lab/tree/shared_notebooks/training-AMERICA/08%20Jupyter%20Notebook%20-%20Sea%20Level%20Observation%20Products/08-SEALEVEL-02_sealevel-L3_uses.ipynb\n",
    "and \n",
    "https://help.marine.copernicus.eu/en/articles/6444313-how-to-fetch-marine-data-from-copernicus-marine-ftp-server-in-python"
   ]
  },
  {
   "cell_type": "code",
   "execution_count": 9,
   "metadata": {},
   "outputs": [],
   "source": [
    "# Basic import package for connecting to Copernicus Marine FTP server\n",
    "from ftplib import FTP\n",
    "import ftplib\n",
    "import re\n",
    "import getpass\n",
    "from datetime import datetime\n",
    "import sys,fnmatch,os"
   ]
  },
  {
   "cell_type": "markdown",
   "metadata": {},
   "source": [
    "#### User and Data Configuration\n",
    "Make sure you have a CMEMS account or register here: https://data.marine.copernicus.eu/register. \n",
    "Product and Dataset ids can be found here: https://data.marine.copernicus.eu/product/WAVE_GLO_PHY_SWH_L3_NRT_014_001/services"
   ]
  },
  {
   "cell_type": "code",
   "execution_count": 10,
   "metadata": {},
   "outputs": [],
   "source": [
    "# Server Configuration\n",
    "host = 'nrt.cmems-du.eu' # or my.cmems-du.eu or nrt.cmems-du.eu nrt.cmems-du.eu/Core\n",
    "\n",
    "# Credentials\n",
    "username = input('[ACTION] Enter your username: ')\n",
    "password = getpass.getpass('[ACTION Enter your password: ')\n",
    "\n",
    "# Data Request Configuration\n",
    "PRODUCT_ID = 'WAVE_GLO_PHY_SWH_L3_NRT_014_001'\n",
    "DATASET_ID = 'cmems_obs-wave_glo_phy-swh_nrt_s3a-l3_PT1S'   # nrt: Near real-time or my: multi-yera. jason3: 'cmems_obs-wave_glo_phy-swh_nrt_j3-l3_PT1S' \n",
    "\n",
    "year = '2022'\n",
    "month = '01'\n",
    "\n",
    "# Output dir\n",
    "env_root = os.getcwd() # environment root directory\n",
    "output_root = '../data'   # output root directory\n",
    "if output_root not in sys.path:\n",
    "    sys.path.append(output_root)\n",
    "os.chdir(output_root)  # change to output root directory\n"
   ]
  },
  {
   "cell_type": "markdown",
   "metadata": {},
   "source": [
    "### Connect to FTP server"
   ]
  },
  {
   "cell_type": "code",
   "execution_count": 11,
   "metadata": {},
   "outputs": [
    {
     "data": {
      "text/plain": [
       "'220 Welcome to CMEMS NRT FTP service'"
      ]
     },
     "execution_count": 11,
     "metadata": {},
     "output_type": "execute_result"
    }
   ],
   "source": [
    "ftp = FTP()\n",
    "ftp.connect(host)"
   ]
  },
  {
   "cell_type": "markdown",
   "metadata": {},
   "source": [
    "### Change directory on FTP server to desired data and retrieve available files"
   ]
  },
  {
   "cell_type": "code",
   "execution_count": 12,
   "metadata": {},
   "outputs": [
    {
     "data": {
      "text/plain": [
       "'250 Directory successfully changed.'"
      ]
     },
     "execution_count": 12,
     "metadata": {},
     "output_type": "execute_result"
    }
   ],
   "source": [
    "# Connect to ftp server\n",
    "ftp = FTP(host,username,password)\n",
    "\n",
    "# Change direcotry to the product we want (find the path in the catalogue)\n",
    "ftp.cwd('Core/' + PRODUCT_ID + '/' + DATASET_ID + '/' + year + '/' + month)"
   ]
  },
  {
   "cell_type": "code",
   "execution_count": 13,
   "metadata": {},
   "outputs": [
    {
     "name": "stdout",
     "output_type": "stream",
     "text": [
      "-rw-rw-r--    1 ftp      ftp        159119 Nov 18  2022 global_vavh_l3_rt_s3a_20220120T000000_20220120T030000_20220627T131616.nc\n",
      "-rw-rw-r--    1 ftp      ftp        155866 Nov 18  2022 global_vavh_l3_rt_s3a_20220120T030000_20220120T060000_20220627T131612.nc\n",
      "-rw-rw-r--    1 ftp      ftp        178834 Nov 18  2022 global_vavh_l3_rt_s3a_20220120T060000_20220120T090000_20220627T131622.nc\n",
      "-rw-rw-r--    1 ftp      ftp        177558 Nov 18  2022 global_vavh_l3_rt_s3a_20220120T090000_20220120T120000_20220627T131704.nc\n",
      "-rw-rw-r--    1 ftp      ftp        170012 Nov 18  2022 global_vavh_l3_rt_s3a_20220120T120000_20220120T150000_20220627T131704.nc\n",
      "-rw-rw-r--    1 ftp      ftp        153248 Nov 18  2022 global_vavh_l3_rt_s3a_20220120T150000_20220120T180000_20220627T131700.nc\n",
      "-rw-rw-r--    1 ftp      ftp        176653 Nov 18  2022 global_vavh_l3_rt_s3a_20220120T180000_20220120T210000_20220627T131706.nc\n",
      "-rw-rw-r--    1 ftp      ftp        199162 Nov 18  2022 global_vavh_l3_rt_s3a_20220120T210000_20220121T000000_20220627T131749.nc\n",
      "-rw-rw-r--    1 ftp      ftp        161938 Nov 18  2022 global_vavh_l3_rt_s3a_20220121T000000_20220121T030000_20220627T131745.nc\n",
      "-rw-rw-r--    1 ftp      ftp        151378 Nov 18  2022 global_vavh_l3_rt_s3a_20220121T030000_20220121T060000_20220627T131747.nc\n",
      "-rw-rw-r--    1 ftp      ftp        170078 Nov 18  2022 global_vavh_l3_rt_s3a_20220121T060000_20220121T090000_20220627T131749.nc\n",
      "-rw-rw-r--    1 ftp      ftp        186292 Nov 18  2022 global_vavh_l3_rt_s3a_20220121T090000_20220121T120000_20220627T131837.nc\n",
      "-rw-rw-r--    1 ftp      ftp        162400 Nov 18  2022 global_vavh_l3_rt_s3a_20220121T120000_20220121T150000_20220627T131828.nc\n",
      "-rw-rw-r--    1 ftp      ftp        152478 Nov 18  2022 global_vavh_l3_rt_s3a_20220121T150000_20220121T180000_20220627T131828.nc\n",
      "-rw-rw-r--    1 ftp      ftp        168692 Nov 18  2022 global_vavh_l3_rt_s3a_20220121T180000_20220121T210000_20220627T131831.nc\n",
      "-rw-rw-r--    1 ftp      ftp        190318 Nov 18  2022 global_vavh_l3_rt_s3a_20220121T210000_20220122T000000_20220627T131917.nc\n",
      "-rw-rw-r--    1 ftp      ftp        159188 Nov 18  2022 global_vavh_l3_rt_s3a_20220122T000000_20220122T030000_20220627T131915.nc\n",
      "-rw-rw-r--    1 ftp      ftp        139740 Nov 18  2022 global_vavh_l3_rt_s3a_20220122T030000_20220122T060000_20220627T131909.nc\n",
      "-rw-rw-r--    1 ftp      ftp        169836 Nov 18  2022 global_vavh_l3_rt_s3a_20220122T060000_20220122T090000_20220627T131922.nc\n",
      "-rw-rw-r--    1 ftp      ftp        193574 Nov 18  2022 global_vavh_l3_rt_s3a_20220122T090000_20220122T120000_20220627T131954.nc\n",
      "-rw-rw-r--    1 ftp      ftp        155357 Nov 18  2022 global_vavh_l3_rt_s3a_20220122T120000_20220122T150000_20220627T131957.nc\n",
      "-rw-rw-r--    1 ftp      ftp        168714 Nov 18  2022 global_vavh_l3_rt_s3a_20220122T150000_20220122T180000_20220627T131959.nc\n",
      "-rw-rw-r--    1 ftp      ftp        170496 Nov 18  2022 global_vavh_l3_rt_s3a_20220122T180000_20220122T210000_20220627T132004.nc\n",
      "-rw-rw-r--    1 ftp      ftp        187763 Nov 18  2022 global_vavh_l3_rt_s3a_20220122T210000_20220123T000000_20220627T132044.nc\n",
      "-rw-rw-r--    1 ftp      ftp        144162 Nov 18  2022 global_vavh_l3_rt_s3a_20220123T000000_20220123T030000_20220627T132044.nc\n",
      "-rw-rw-r--    1 ftp      ftp        166646 Nov 18  2022 global_vavh_l3_rt_s3a_20220123T030000_20220123T060000_20220627T132038.nc\n",
      "-rw-rw-r--    1 ftp      ftp        152764 Nov 18  2022 global_vavh_l3_rt_s3a_20220123T060000_20220123T090000_20220627T132048.nc\n",
      "-rw-rw-r--    1 ftp      ftp        206884 Nov 18  2022 global_vavh_l3_rt_s3a_20220123T090000_20220123T120000_20220627T132124.nc\n",
      "-rw-rw-r--    1 ftp      ftp        153006 Nov 18  2022 global_vavh_l3_rt_s3a_20220123T120000_20220123T150000_20220627T132129.nc\n",
      "-rw-rw-r--    1 ftp      ftp        171068 Nov 18  2022 global_vavh_l3_rt_s3a_20220123T150000_20220123T180000_20220627T132126.nc\n",
      "-rw-rw-r--    1 ftp      ftp        171464 Nov 18  2022 global_vavh_l3_rt_s3a_20220123T180000_20220123T210000_20220627T132137.nc\n",
      "-rw-rw-r--    1 ftp      ftp        176722 Nov 18  2022 global_vavh_l3_rt_s3a_20220123T210000_20220124T000000_20220627T132208.nc\n",
      "-rw-rw-r--    1 ftp      ftp        170518 Nov 18  2022 global_vavh_l3_rt_s3a_20220124T000000_20220124T030000_20220627T132209.nc\n",
      "-rw-rw-r--    1 ftp      ftp        151466 Nov 18  2022 global_vavh_l3_rt_s3a_20220124T030000_20220124T060000_20220627T132207.nc\n",
      "-rw-rw-r--    1 ftp      ftp        179758 Nov 18  2022 global_vavh_l3_rt_s3a_20220124T060000_20220124T090000_20220627T132220.nc\n",
      "-rw-rw-r--    1 ftp      ftp        184048 Nov 18  2022 global_vavh_l3_rt_s3a_20220124T090000_20220124T120000_20220627T132258.nc\n",
      "-rw-rw-r--    1 ftp      ftp        173312 Nov 18  2022 global_vavh_l3_rt_s3a_20220124T120000_20220124T150000_20220627T132257.nc\n",
      "-rw-rw-r--    1 ftp      ftp        150014 Nov 18  2022 global_vavh_l3_rt_s3a_20220124T150000_20220124T180000_20220627T132249.nc\n",
      "-rw-rw-r--    1 ftp      ftp        171596 Nov 18  2022 global_vavh_l3_rt_s3a_20220124T180000_20220124T210000_20220627T132304.nc\n",
      "-rw-rw-r--    1 ftp      ftp        207698 Nov 18  2022 global_vavh_l3_rt_s3a_20220124T210000_20220125T000000_20220627T132336.nc\n",
      "-rw-rw-r--    1 ftp      ftp        158968 Nov 18  2022 global_vavh_l3_rt_s3a_20220125T000000_20220125T030000_20220627T132338.nc\n",
      "-rw-rw-r--    1 ftp      ftp        151444 Nov 18  2022 global_vavh_l3_rt_s3a_20220125T030000_20220125T060000_20220627T132338.nc\n",
      "-rw-rw-r--    1 ftp      ftp        164358 Nov 18  2022 global_vavh_l3_rt_s3a_20220125T060000_20220125T090000_20220627T132348.nc\n",
      "-rw-rw-r--    1 ftp      ftp        189460 Nov 18  2022 global_vavh_l3_rt_s3a_20220125T090000_20220125T120000_20220627T132418.nc\n",
      "-rw-rw-r--    1 ftp      ftp        166778 Nov 18  2022 global_vavh_l3_rt_s3a_20220125T120000_20220125T150000_20220627T132422.nc\n",
      "-rw-rw-r--    1 ftp      ftp        149222 Nov 18  2022 global_vavh_l3_rt_s3a_20220125T150000_20220125T180000_20220627T132419.nc\n",
      "-rw-rw-r--    1 ftp      ftp        170361 Nov 18  2022 global_vavh_l3_rt_s3a_20220125T180000_20220125T210000_20220627T132433.nc\n",
      "-rw-rw-r--    1 ftp      ftp        191594 Nov 18  2022 global_vavh_l3_rt_s3a_20220125T210000_20220126T000000_20220627T132501.nc\n",
      "-rw-rw-r--    1 ftp      ftp        159826 Nov 18  2022 global_vavh_l3_rt_s3a_20220126T000000_20220126T030000_20220627T132502.nc\n",
      "-rw-rw-r--    1 ftp      ftp        141236 Nov 18  2022 global_vavh_l3_rt_s3a_20220126T030000_20220126T060000_20220627T132504.nc\n",
      "-rw-rw-r--    1 ftp      ftp        172014 Nov 18  2022 global_vavh_l3_rt_s3a_20220126T060000_20220126T090000_20220627T132516.nc\n",
      "-rw-rw-r--    1 ftp      ftp        197534 Nov 18  2022 global_vavh_l3_rt_s3a_20220126T090000_20220126T120000_20220627T132548.nc\n",
      "-rw-rw-r--    1 ftp      ftp        151884 Nov 18  2022 global_vavh_l3_rt_s3a_20220126T120000_20220126T150000_20220627T132545.nc\n",
      "-rw-rw-r--    1 ftp      ftp        172762 Nov 18  2022 global_vavh_l3_rt_s3a_20220126T150000_20220126T180000_20220627T132552.nc\n",
      "-rw-rw-r--    1 ftp      ftp        167438 Nov 18  2022 global_vavh_l3_rt_s3a_20220126T180000_20220126T210000_20220627T132603.nc\n",
      "-rw-rw-r--    1 ftp      ftp        190604 Nov 18  2022 global_vavh_l3_rt_s3a_20220126T210000_20220127T000000_20220627T132631.nc\n",
      "-rw-rw-r--    1 ftp      ftp        146007 Nov 18  2022 global_vavh_l3_rt_s3a_20220127T000000_20220127T030000_20220627T132633.nc\n",
      "-rw-rw-r--    1 ftp      ftp        169924 Nov 18  2022 global_vavh_l3_rt_s3a_20220127T030000_20220127T060000_20220627T132633.nc\n",
      "-rw-rw-r--    1 ftp      ftp        150803 Nov 18  2022 global_vavh_l3_rt_s3a_20220127T060000_20220127T090000_20220627T132645.nc\n",
      "-rw-rw-r--    1 ftp      ftp        205960 Nov 18  2022 global_vavh_l3_rt_s3a_20220127T090000_20220127T120000_20220627T132723.nc\n",
      "-rw-rw-r--    1 ftp      ftp        158770 Nov 18  2022 global_vavh_l3_rt_s3a_20220127T120000_20220127T150000_20220627T132721.nc\n",
      "-rw-rw-r--    1 ftp      ftp        167215 Nov 18  2022 global_vavh_l3_rt_s3a_20220127T150000_20220127T180000_20220627T132718.nc\n",
      "-rw-rw-r--    1 ftp      ftp        173730 Nov 18  2022 global_vavh_l3_rt_s3a_20220127T180000_20220127T210000_20220627T132728.nc\n",
      "-rw-rw-r--    1 ftp      ftp        180899 Nov 18  2022 global_vavh_l3_rt_s3a_20220127T210000_20220128T000000_20220627T132809.nc\n",
      "-rw-rw-r--    1 ftp      ftp        172146 Nov 18  2022 global_vavh_l3_rt_s3a_20220128T000000_20220128T030000_20220627T132805.nc\n",
      "-rw-rw-r--    1 ftp      ftp        145108 Nov 18  2022 global_vavh_l3_rt_s3a_20220128T030000_20220128T060000_20220627T132806.nc\n",
      "-rw-rw-r--    1 ftp      ftp        186534 Nov 18  2022 global_vavh_l3_rt_s3a_20220128T060000_20220128T090000_20220627T132809.nc\n",
      "-rw-rw-r--    1 ftp      ftp        186006 Nov 18  2022 global_vavh_l3_rt_s3a_20220128T090000_20220128T120000_20220627T132857.nc\n",
      "-rw-rw-r--    1 ftp      ftp        167130 Nov 18  2022 global_vavh_l3_rt_s3a_20220128T120000_20220128T150000_20220627T132855.nc\n",
      "-rw-rw-r--    1 ftp      ftp        153732 Nov 18  2022 global_vavh_l3_rt_s3a_20220128T150000_20220128T180000_20220627T132852.nc\n",
      "-rw-rw-r--    1 ftp      ftp        169704 Nov 18  2022 global_vavh_l3_rt_s3a_20220128T180000_20220128T210000_20220627T132856.nc\n",
      "-rw-rw-r--    1 ftp      ftp        214474 Nov 18  2022 global_vavh_l3_rt_s3a_20220128T210000_20220129T000000_20220627T132943.nc\n",
      "-rw-rw-r--    1 ftp      ftp        159232 Nov 18  2022 global_vavh_l3_rt_s3a_20220129T000000_20220129T030000_20220627T132942.nc\n",
      "-rw-rw-r--    1 ftp      ftp        148518 Nov 18  2022 global_vavh_l3_rt_s3a_20220129T030000_20220129T060000_20220627T132943.nc\n",
      "-rw-rw-r--    1 ftp      ftp        163563 Nov 18  2022 global_vavh_l3_rt_s3a_20220129T060000_20220129T090000_20220627T132944.nc\n",
      "-rw-rw-r--    1 ftp      ftp        188602 Nov 18  2022 global_vavh_l3_rt_s3a_20220129T090000_20220129T120000_20220627T133031.nc\n",
      "-rw-rw-r--    1 ftp      ftp        169484 Nov 18  2022 global_vavh_l3_rt_s3a_20220129T120000_20220129T150000_20220627T133028.nc\n",
      "-rw-rw-r--    1 ftp      ftp        146582 Nov 18  2022 global_vavh_l3_rt_s3a_20220129T150000_20220129T180000_20220627T133022.nc\n",
      "-rw-rw-r--    1 ftp      ftp        175974 Nov 18  2022 global_vavh_l3_rt_s3a_20220129T180000_20220129T210000_20220627T133107.nc\n",
      "-rw-rw-r--    1 ftp      ftp        190164 Nov 18  2022 global_vavh_l3_rt_s3a_20220129T210000_20220130T000000_20220627T133030.nc\n"
     ]
    },
    {
     "data": {
      "text/plain": [
       "'226 Directory send OK.'"
      ]
     },
     "execution_count": 13,
     "metadata": {},
     "output_type": "execute_result"
    }
   ],
   "source": [
    "# Retrieve lines\n",
    "#ftp.retrlines('LIST *global_vavh_l3_rt_j3_2022012*.nc') #jason3\n",
    "ftp.retrlines('LIST *global_vavh_l3_rt_s3a_2022012*.nc')  #sentinel3a"
   ]
  },
  {
   "cell_type": "markdown",
   "metadata": {},
   "source": [
    "### Download Altimetry data from FTP server"
   ]
  },
  {
   "cell_type": "code",
   "execution_count": null,
   "metadata": {},
   "outputs": [],
   "source": [
    "\n",
    "dir_files=ftp.nlst('') # list files in remote ftp\n",
    "for f in dir_files:\n",
    "    if fnmatch.fnmatch(f,\"*global_vavh_l3_rt_s3a_2022012*.nc\"):   # cannot use glob.glob , match files in ftp remote\n",
    "        sys.stderr.write(\"downloading \"+f+\" ...\\n\")\n",
    "        ftp.retrbinary(\"RETR \" + f ,open(f, 'wb').write)        # download files from ftp remote\n",
    "\n",
    "os.chdir(env_root) # change back to environment root directory\n",
    "ftp.quit\n",
    "        "
   ]
  },
  {
   "cell_type": "code",
   "execution_count": null,
   "metadata": {},
   "outputs": [],
   "source": []
  }
 ],
 "metadata": {
  "kernelspec": {
   "display_name": "openda-lab",
   "language": "python",
   "name": "python3"
  },
  "language_info": {
   "codemirror_mode": {
    "name": "ipython",
    "version": 3
   },
   "file_extension": ".py",
   "mimetype": "text/x-python",
   "name": "python",
   "nbconvert_exporter": "python",
   "pygments_lexer": "ipython3",
   "version": "3.11.6"
  }
 },
 "nbformat": 4,
 "nbformat_minor": 2
}
